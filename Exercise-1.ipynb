{
 "cells": [
  {
   "cell_type": "code",
   "execution_count": 1,
   "id": "0bf42a58-0bae-4aae-9a42-4b7b36004dc1",
   "metadata": {},
   "outputs": [],
   "source": [
    "# Problem 1 - Defining numerical variables\n",
    "ice_cream_rating = 9\n",
    "sleeping_rating = 8"
   ]
  },
  {
   "cell_type": "code",
   "execution_count": 2,
   "id": "b5da84e2-d149-49b9-9509-f87aa24cd7e1",
   "metadata": {},
   "outputs": [],
   "source": [
    "# Problem 2 - Defining string variables\n",
    "first_name = \"Barbara\"\n",
    "last_name = \"Nyame\"\n",
    "my_name = first_name + \" \" + last_name"
   ]
  },
  {
   "cell_type": "code",
   "execution_count": 3,
   "id": "7e42e2c3-9a34-4ac4-8afe-4fad2dfa66b3",
   "metadata": {},
   "outputs": [],
   "source": [
    "# Problem 3 - Calculate average happiness rating\n",
    "happiness_rating = (ice_cream_rating + sleeping_rating) / 2"
   ]
  },
  {
   "cell_type": "code",
   "execution_count": 4,
   "id": "0ef16de2-796a-444d-800e-fd955e956a57",
   "metadata": {},
   "outputs": [
    {
     "name": "stdout",
     "output_type": "stream",
     "text": [
      "<class 'int'>\n",
      "<class 'str'>\n",
      "<class 'float'>\n"
     ]
    }
   ],
   "source": [
    "# Problem 4 - Checking data types\n",
    "print(type(ice_cream_rating))\n",
    "print(type(first_name))\n",
    "print(type(happiness_rating))"
   ]
  },
  {
   "cell_type": "code",
   "execution_count": 5,
   "id": "c63d348f-b14c-4d9a-b127-2ec454ea3188",
   "metadata": {},
   "outputs": [
    {
     "name": "stdout",
     "output_type": "stream",
     "text": [
      "<class 'int'>\n",
      "<class 'str'>\n",
      "<class 'float'>\n"
     ]
    }
   ],
   "source": [
    "print(type(ice_cream_rating))\n",
    "print(type(first_name))\n",
    "print(type(happiness_rating))"
   ]
  },
  {
   "cell_type": "code",
   "execution_count": 6,
   "id": "4dc45cdd-f98e-4c51-ab4d-9ff1d8a9c833",
   "metadata": {},
   "outputs": [],
   "source": [
    "# ice_name_rating is an integer\n",
    "# first_name is string\n",
    "# hapiness_rating is a float"
   ]
  },
  {
   "cell_type": "markdown",
   "id": "ecde00c7-7e6d-4faf-821c-3484e64b0448",
   "metadata": {},
   "source": [
    "# Problem 5 - Reflection on data types\n",
    "\n",
    "The data types made sense:\n",
    "- `ice_cream_rating` is an integer.\n",
    "- `first_name` is a string.\n",
    "- `happiness_rating` is a float.\n",
    "\n",
    "This matches expectations."
   ]
  },
  {
   "cell_type": "code",
   "execution_count": 7,
   "id": "733f8637-46e2-4e7a-a977-9822cf4cfd5e",
   "metadata": {},
   "outputs": [
    {
     "name": "stdout",
     "output_type": "stream",
     "text": [
      "My name is Barbara and I give eating ice cream a score of 9 out of 10!\n",
      "I am Barbara Nyame and my sleeping enjoyment rating is 8 / 10!\n",
      "Based on the factors above, my happiness rating is 8.5 out of 10, or 85.0 %!\n"
     ]
    }
   ],
   "source": [
    "print(f\"My name is {first_name} and I give eating ice cream a score of {ice_cream_rating} out of 10!\")\n",
    "print(f\"I am {my_name} and my sleeping enjoyment rating is {sleeping_rating} / 10!\")\n",
    "print(f\"Based on the factors above, my happiness rating is {happiness_rating} out of 10, or {happiness_rating * 10} %!\")"
   ]
  },
  {
   "cell_type": "code",
   "execution_count": null,
   "id": "c1cec1c3-b788-4dea-aee3-dc8ad4e52f85",
   "metadata": {},
   "outputs": [],
   "source": []
  }
 ],
 "metadata": {
  "kernelspec": {
   "display_name": "Python 3 (ipykernel)",
   "language": "python",
   "name": "python3"
  },
  "language_info": {
   "codemirror_mode": {
    "name": "ipython",
    "version": 3
   },
   "file_extension": ".py",
   "mimetype": "text/x-python",
   "name": "python",
   "nbconvert_exporter": "python",
   "pygments_lexer": "ipython3",
   "version": "3.13.2"
  }
 },
 "nbformat": 4,
 "nbformat_minor": 5
}
